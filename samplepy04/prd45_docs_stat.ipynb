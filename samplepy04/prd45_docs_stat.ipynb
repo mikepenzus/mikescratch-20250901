{
 "cells": [
  {
   "cell_type": "code",
   "id": "initial_id",
   "metadata": {
    "collapsed": true,
    "ExecuteTime": {
     "end_time": "2025-09-01T16:56:17.732928Z",
     "start_time": "2025-09-01T16:56:13.442086Z"
    }
   },
   "source": [
    "import numpy as np\n",
    "import pandas as pd\n",
    "import datetime\n",
    "import matplotlib.pyplot as plt"
   ],
   "outputs": [],
   "execution_count": 1
  },
  {
   "metadata": {
    "ExecuteTime": {
     "end_time": "2025-09-01T16:56:21.530531Z",
     "start_time": "2025-09-01T16:56:17.751879Z"
    }
   },
   "cell_type": "code",
   "source": [
    "parse_dates = ['lasthandled', 'firstseentimestamp']\n",
    "df = pd.read_csv('./data/prd45.csv',\n",
    "                     parse_dates=parse_dates\n",
    "                   )\n",
    "df.head()"
   ],
   "id": "de1d4c1cc67722d0",
   "outputs": [
    {
     "data": {
      "text/plain": [
       "        case_oid             lasthandled      firstseentimestamp  \\\n",
       "0  1719575850377 2024-06-28 14:00:16.587 2024-06-28 13:57:44.877   \n",
       "1  1719579946152                     NaT 2024-06-28 15:05:58.938   \n",
       "2  1719575850377 2024-06-28 14:02:06.125 2024-06-28 13:57:57.363   \n",
       "3  1719579945831 2024-06-28 15:07:56.192 2024-06-28 15:06:03.266   \n",
       "4  1719575850377 2024-06-28 14:03:37.800 2024-06-28 13:57:59.900   \n",
       "\n",
       "            status  \n",
       "0   URI_DOWNLOADED  \n",
       "1  URI_ENCOUNTERED  \n",
       "2   URI_DOWNLOADED  \n",
       "3   URI_DOWNLOADED  \n",
       "4   URI_DOWNLOADED  "
      ],
      "text/html": [
       "<div>\n",
       "<style scoped>\n",
       "    .dataframe tbody tr th:only-of-type {\n",
       "        vertical-align: middle;\n",
       "    }\n",
       "\n",
       "    .dataframe tbody tr th {\n",
       "        vertical-align: top;\n",
       "    }\n",
       "\n",
       "    .dataframe thead th {\n",
       "        text-align: right;\n",
       "    }\n",
       "</style>\n",
       "<table border=\"1\" class=\"dataframe\">\n",
       "  <thead>\n",
       "    <tr style=\"text-align: right;\">\n",
       "      <th></th>\n",
       "      <th>case_oid</th>\n",
       "      <th>lasthandled</th>\n",
       "      <th>firstseentimestamp</th>\n",
       "      <th>status</th>\n",
       "    </tr>\n",
       "  </thead>\n",
       "  <tbody>\n",
       "    <tr>\n",
       "      <th>0</th>\n",
       "      <td>1719575850377</td>\n",
       "      <td>2024-06-28 14:00:16.587</td>\n",
       "      <td>2024-06-28 13:57:44.877</td>\n",
       "      <td>URI_DOWNLOADED</td>\n",
       "    </tr>\n",
       "    <tr>\n",
       "      <th>1</th>\n",
       "      <td>1719579946152</td>\n",
       "      <td>NaT</td>\n",
       "      <td>2024-06-28 15:05:58.938</td>\n",
       "      <td>URI_ENCOUNTERED</td>\n",
       "    </tr>\n",
       "    <tr>\n",
       "      <th>2</th>\n",
       "      <td>1719575850377</td>\n",
       "      <td>2024-06-28 14:02:06.125</td>\n",
       "      <td>2024-06-28 13:57:57.363</td>\n",
       "      <td>URI_DOWNLOADED</td>\n",
       "    </tr>\n",
       "    <tr>\n",
       "      <th>3</th>\n",
       "      <td>1719579945831</td>\n",
       "      <td>2024-06-28 15:07:56.192</td>\n",
       "      <td>2024-06-28 15:06:03.266</td>\n",
       "      <td>URI_DOWNLOADED</td>\n",
       "    </tr>\n",
       "    <tr>\n",
       "      <th>4</th>\n",
       "      <td>1719575850377</td>\n",
       "      <td>2024-06-28 14:03:37.800</td>\n",
       "      <td>2024-06-28 13:57:59.900</td>\n",
       "      <td>URI_DOWNLOADED</td>\n",
       "    </tr>\n",
       "  </tbody>\n",
       "</table>\n",
       "</div>"
      ]
     },
     "execution_count": 2,
     "metadata": {},
     "output_type": "execute_result"
    }
   ],
   "execution_count": 2
  },
  {
   "metadata": {
    "ExecuteTime": {
     "end_time": "2025-09-01T16:56:22.061849Z",
     "start_time": "2025-09-01T16:56:21.880340Z"
    }
   },
   "cell_type": "code",
   "source": "df.status.unique()",
   "id": "f885e907be962170",
   "outputs": [
    {
     "data": {
      "text/plain": [
       "array(['URI_DOWNLOADED', 'URI_ENCOUNTERED', 'URI_REJECTED', 'URI_RETRY'],\n",
       "      dtype=object)"
      ]
     },
     "execution_count": 3,
     "metadata": {},
     "output_type": "execute_result"
    }
   ],
   "execution_count": 3
  },
  {
   "metadata": {
    "ExecuteTime": {
     "end_time": "2025-09-01T16:56:22.427843Z",
     "start_time": "2025-09-01T16:56:22.210660Z"
    }
   },
   "cell_type": "code",
   "source": "df.status.value_counts()",
   "id": "6939b5e134223008",
   "outputs": [
    {
     "data": {
      "text/plain": [
       "status\n",
       "URI_DOWNLOADED     1236434\n",
       "URI_REJECTED         93883\n",
       "URI_ENCOUNTERED      16389\n",
       "URI_RETRY              154\n",
       "Name: count, dtype: int64"
      ]
     },
     "execution_count": 4,
     "metadata": {},
     "output_type": "execute_result"
    }
   ],
   "execution_count": 4
  },
  {
   "metadata": {
    "ExecuteTime": {
     "end_time": "2025-09-01T16:56:36.880140Z",
     "start_time": "2025-09-01T16:56:22.587107Z"
    }
   },
   "cell_type": "code",
   "source": [
    "df['date_diff'] = df.apply(lambda row: row['lasthandled'] - row['firstseentimestamp'], axis = 1)\n",
    "df"
   ],
   "id": "308af7360130c558",
   "outputs": [
    {
     "data": {
      "text/plain": [
       "              case_oid             lasthandled      firstseentimestamp  \\\n",
       "0        1719575850377 2024-06-28 14:00:16.587 2024-06-28 13:57:44.877   \n",
       "1        1719579946152                     NaT 2024-06-28 15:05:58.938   \n",
       "2        1719575850377 2024-06-28 14:02:06.125 2024-06-28 13:57:57.363   \n",
       "3        1719579945831 2024-06-28 15:07:56.192 2024-06-28 15:06:03.266   \n",
       "4        1719575850377 2024-06-28 14:03:37.800 2024-06-28 13:57:59.900   \n",
       "...                ...                     ...                     ...   \n",
       "1346855  1719575850377 2024-06-28 13:59:36.554 2024-06-28 13:57:43.270   \n",
       "1346856  1719576752821 2024-06-28 14:13:27.728 2024-06-28 14:12:36.863   \n",
       "1346857  1719575850377 2024-06-28 14:05:18.834 2024-06-28 13:57:52.478   \n",
       "1346858  1719575850377 2024-06-28 14:01:00.589 2024-06-28 13:57:52.536   \n",
       "1346859  1719575850377 2024-06-28 14:05:11.110 2024-06-28 13:57:53.368   \n",
       "\n",
       "                  status              date_diff  \n",
       "0         URI_DOWNLOADED 0 days 00:02:31.710000  \n",
       "1        URI_ENCOUNTERED                    NaT  \n",
       "2         URI_DOWNLOADED 0 days 00:04:08.762000  \n",
       "3         URI_DOWNLOADED 0 days 00:01:52.926000  \n",
       "4         URI_DOWNLOADED 0 days 00:05:37.900000  \n",
       "...                  ...                    ...  \n",
       "1346855   URI_DOWNLOADED 0 days 00:01:53.284000  \n",
       "1346856   URI_DOWNLOADED 0 days 00:00:50.865000  \n",
       "1346857   URI_DOWNLOADED 0 days 00:07:26.356000  \n",
       "1346858   URI_DOWNLOADED 0 days 00:03:08.053000  \n",
       "1346859   URI_DOWNLOADED 0 days 00:07:17.742000  \n",
       "\n",
       "[1346860 rows x 5 columns]"
      ],
      "text/html": [
       "<div>\n",
       "<style scoped>\n",
       "    .dataframe tbody tr th:only-of-type {\n",
       "        vertical-align: middle;\n",
       "    }\n",
       "\n",
       "    .dataframe tbody tr th {\n",
       "        vertical-align: top;\n",
       "    }\n",
       "\n",
       "    .dataframe thead th {\n",
       "        text-align: right;\n",
       "    }\n",
       "</style>\n",
       "<table border=\"1\" class=\"dataframe\">\n",
       "  <thead>\n",
       "    <tr style=\"text-align: right;\">\n",
       "      <th></th>\n",
       "      <th>case_oid</th>\n",
       "      <th>lasthandled</th>\n",
       "      <th>firstseentimestamp</th>\n",
       "      <th>status</th>\n",
       "      <th>date_diff</th>\n",
       "    </tr>\n",
       "  </thead>\n",
       "  <tbody>\n",
       "    <tr>\n",
       "      <th>0</th>\n",
       "      <td>1719575850377</td>\n",
       "      <td>2024-06-28 14:00:16.587</td>\n",
       "      <td>2024-06-28 13:57:44.877</td>\n",
       "      <td>URI_DOWNLOADED</td>\n",
       "      <td>0 days 00:02:31.710000</td>\n",
       "    </tr>\n",
       "    <tr>\n",
       "      <th>1</th>\n",
       "      <td>1719579946152</td>\n",
       "      <td>NaT</td>\n",
       "      <td>2024-06-28 15:05:58.938</td>\n",
       "      <td>URI_ENCOUNTERED</td>\n",
       "      <td>NaT</td>\n",
       "    </tr>\n",
       "    <tr>\n",
       "      <th>2</th>\n",
       "      <td>1719575850377</td>\n",
       "      <td>2024-06-28 14:02:06.125</td>\n",
       "      <td>2024-06-28 13:57:57.363</td>\n",
       "      <td>URI_DOWNLOADED</td>\n",
       "      <td>0 days 00:04:08.762000</td>\n",
       "    </tr>\n",
       "    <tr>\n",
       "      <th>3</th>\n",
       "      <td>1719579945831</td>\n",
       "      <td>2024-06-28 15:07:56.192</td>\n",
       "      <td>2024-06-28 15:06:03.266</td>\n",
       "      <td>URI_DOWNLOADED</td>\n",
       "      <td>0 days 00:01:52.926000</td>\n",
       "    </tr>\n",
       "    <tr>\n",
       "      <th>4</th>\n",
       "      <td>1719575850377</td>\n",
       "      <td>2024-06-28 14:03:37.800</td>\n",
       "      <td>2024-06-28 13:57:59.900</td>\n",
       "      <td>URI_DOWNLOADED</td>\n",
       "      <td>0 days 00:05:37.900000</td>\n",
       "    </tr>\n",
       "    <tr>\n",
       "      <th>...</th>\n",
       "      <td>...</td>\n",
       "      <td>...</td>\n",
       "      <td>...</td>\n",
       "      <td>...</td>\n",
       "      <td>...</td>\n",
       "    </tr>\n",
       "    <tr>\n",
       "      <th>1346855</th>\n",
       "      <td>1719575850377</td>\n",
       "      <td>2024-06-28 13:59:36.554</td>\n",
       "      <td>2024-06-28 13:57:43.270</td>\n",
       "      <td>URI_DOWNLOADED</td>\n",
       "      <td>0 days 00:01:53.284000</td>\n",
       "    </tr>\n",
       "    <tr>\n",
       "      <th>1346856</th>\n",
       "      <td>1719576752821</td>\n",
       "      <td>2024-06-28 14:13:27.728</td>\n",
       "      <td>2024-06-28 14:12:36.863</td>\n",
       "      <td>URI_DOWNLOADED</td>\n",
       "      <td>0 days 00:00:50.865000</td>\n",
       "    </tr>\n",
       "    <tr>\n",
       "      <th>1346857</th>\n",
       "      <td>1719575850377</td>\n",
       "      <td>2024-06-28 14:05:18.834</td>\n",
       "      <td>2024-06-28 13:57:52.478</td>\n",
       "      <td>URI_DOWNLOADED</td>\n",
       "      <td>0 days 00:07:26.356000</td>\n",
       "    </tr>\n",
       "    <tr>\n",
       "      <th>1346858</th>\n",
       "      <td>1719575850377</td>\n",
       "      <td>2024-06-28 14:01:00.589</td>\n",
       "      <td>2024-06-28 13:57:52.536</td>\n",
       "      <td>URI_DOWNLOADED</td>\n",
       "      <td>0 days 00:03:08.053000</td>\n",
       "    </tr>\n",
       "    <tr>\n",
       "      <th>1346859</th>\n",
       "      <td>1719575850377</td>\n",
       "      <td>2024-06-28 14:05:11.110</td>\n",
       "      <td>2024-06-28 13:57:53.368</td>\n",
       "      <td>URI_DOWNLOADED</td>\n",
       "      <td>0 days 00:07:17.742000</td>\n",
       "    </tr>\n",
       "  </tbody>\n",
       "</table>\n",
       "<p>1346860 rows × 5 columns</p>\n",
       "</div>"
      ]
     },
     "execution_count": 5,
     "metadata": {},
     "output_type": "execute_result"
    }
   ],
   "execution_count": 5
  },
  {
   "metadata": {
    "ExecuteTime": {
     "end_time": "2025-09-01T16:56:37.134782Z",
     "start_time": "2025-09-01T16:56:37.128803Z"
    }
   },
   "cell_type": "code",
   "source": "df.dtypes",
   "id": "b83d53daa6893f96",
   "outputs": [
    {
     "data": {
      "text/plain": [
       "case_oid                        int64\n",
       "lasthandled            datetime64[ns]\n",
       "firstseentimestamp     datetime64[ns]\n",
       "status                         object\n",
       "date_diff             timedelta64[ns]\n",
       "dtype: object"
      ]
     },
     "execution_count": 6,
     "metadata": {},
     "output_type": "execute_result"
    }
   ],
   "execution_count": 6
  },
  {
   "metadata": {
    "ExecuteTime": {
     "end_time": "2025-09-01T16:56:37.379074Z",
     "start_time": "2025-09-01T16:56:37.335235Z"
    }
   },
   "cell_type": "code",
   "source": [
    "date_diffs = pd.DataFrame({ 'diff': df.date_diff.dropna() })\n",
    "date_diffs"
   ],
   "id": "ab45a00f6ec6dcc3",
   "outputs": [
    {
     "data": {
      "text/plain": [
       "                          diff\n",
       "0       0 days 00:02:31.710000\n",
       "2       0 days 00:04:08.762000\n",
       "3       0 days 00:01:52.926000\n",
       "4       0 days 00:05:37.900000\n",
       "5       0 days 00:05:15.552000\n",
       "...                        ...\n",
       "1346855 0 days 00:01:53.284000\n",
       "1346856 0 days 00:00:50.865000\n",
       "1346857 0 days 00:07:26.356000\n",
       "1346858 0 days 00:03:08.053000\n",
       "1346859 0 days 00:07:17.742000\n",
       "\n",
       "[1097347 rows x 1 columns]"
      ],
      "text/html": [
       "<div>\n",
       "<style scoped>\n",
       "    .dataframe tbody tr th:only-of-type {\n",
       "        vertical-align: middle;\n",
       "    }\n",
       "\n",
       "    .dataframe tbody tr th {\n",
       "        vertical-align: top;\n",
       "    }\n",
       "\n",
       "    .dataframe thead th {\n",
       "        text-align: right;\n",
       "    }\n",
       "</style>\n",
       "<table border=\"1\" class=\"dataframe\">\n",
       "  <thead>\n",
       "    <tr style=\"text-align: right;\">\n",
       "      <th></th>\n",
       "      <th>diff</th>\n",
       "    </tr>\n",
       "  </thead>\n",
       "  <tbody>\n",
       "    <tr>\n",
       "      <th>0</th>\n",
       "      <td>0 days 00:02:31.710000</td>\n",
       "    </tr>\n",
       "    <tr>\n",
       "      <th>2</th>\n",
       "      <td>0 days 00:04:08.762000</td>\n",
       "    </tr>\n",
       "    <tr>\n",
       "      <th>3</th>\n",
       "      <td>0 days 00:01:52.926000</td>\n",
       "    </tr>\n",
       "    <tr>\n",
       "      <th>4</th>\n",
       "      <td>0 days 00:05:37.900000</td>\n",
       "    </tr>\n",
       "    <tr>\n",
       "      <th>5</th>\n",
       "      <td>0 days 00:05:15.552000</td>\n",
       "    </tr>\n",
       "    <tr>\n",
       "      <th>...</th>\n",
       "      <td>...</td>\n",
       "    </tr>\n",
       "    <tr>\n",
       "      <th>1346855</th>\n",
       "      <td>0 days 00:01:53.284000</td>\n",
       "    </tr>\n",
       "    <tr>\n",
       "      <th>1346856</th>\n",
       "      <td>0 days 00:00:50.865000</td>\n",
       "    </tr>\n",
       "    <tr>\n",
       "      <th>1346857</th>\n",
       "      <td>0 days 00:07:26.356000</td>\n",
       "    </tr>\n",
       "    <tr>\n",
       "      <th>1346858</th>\n",
       "      <td>0 days 00:03:08.053000</td>\n",
       "    </tr>\n",
       "    <tr>\n",
       "      <th>1346859</th>\n",
       "      <td>0 days 00:07:17.742000</td>\n",
       "    </tr>\n",
       "  </tbody>\n",
       "</table>\n",
       "<p>1097347 rows × 1 columns</p>\n",
       "</div>"
      ]
     },
     "execution_count": 7,
     "metadata": {},
     "output_type": "execute_result"
    }
   ],
   "execution_count": 7
  },
  {
   "metadata": {
    "ExecuteTime": {
     "end_time": "2025-09-01T16:56:37.982174Z",
     "start_time": "2025-09-01T16:56:37.883730Z"
    }
   },
   "cell_type": "code",
   "source": "date_diffs.describe()",
   "id": "6f688630945bcf1f",
   "outputs": [
    {
     "data": {
      "text/plain": [
       "                            diff\n",
       "count                    1097347\n",
       "mean   0 days 00:14:01.627893480\n",
       "std    0 days 01:32:29.991239658\n",
       "min       0 days 00:00:00.075000\n",
       "25%       0 days 00:00:52.327500\n",
       "50%       0 days 00:03:06.486000\n",
       "75%       0 days 00:11:51.296500\n",
       "max      61 days 23:40:43.861000"
      ],
      "text/html": [
       "<div>\n",
       "<style scoped>\n",
       "    .dataframe tbody tr th:only-of-type {\n",
       "        vertical-align: middle;\n",
       "    }\n",
       "\n",
       "    .dataframe tbody tr th {\n",
       "        vertical-align: top;\n",
       "    }\n",
       "\n",
       "    .dataframe thead th {\n",
       "        text-align: right;\n",
       "    }\n",
       "</style>\n",
       "<table border=\"1\" class=\"dataframe\">\n",
       "  <thead>\n",
       "    <tr style=\"text-align: right;\">\n",
       "      <th></th>\n",
       "      <th>diff</th>\n",
       "    </tr>\n",
       "  </thead>\n",
       "  <tbody>\n",
       "    <tr>\n",
       "      <th>count</th>\n",
       "      <td>1097347</td>\n",
       "    </tr>\n",
       "    <tr>\n",
       "      <th>mean</th>\n",
       "      <td>0 days 00:14:01.627893480</td>\n",
       "    </tr>\n",
       "    <tr>\n",
       "      <th>std</th>\n",
       "      <td>0 days 01:32:29.991239658</td>\n",
       "    </tr>\n",
       "    <tr>\n",
       "      <th>min</th>\n",
       "      <td>0 days 00:00:00.075000</td>\n",
       "    </tr>\n",
       "    <tr>\n",
       "      <th>25%</th>\n",
       "      <td>0 days 00:00:52.327500</td>\n",
       "    </tr>\n",
       "    <tr>\n",
       "      <th>50%</th>\n",
       "      <td>0 days 00:03:06.486000</td>\n",
       "    </tr>\n",
       "    <tr>\n",
       "      <th>75%</th>\n",
       "      <td>0 days 00:11:51.296500</td>\n",
       "    </tr>\n",
       "    <tr>\n",
       "      <th>max</th>\n",
       "      <td>61 days 23:40:43.861000</td>\n",
       "    </tr>\n",
       "  </tbody>\n",
       "</table>\n",
       "</div>"
      ]
     },
     "execution_count": 8,
     "metadata": {},
     "output_type": "execute_result"
    }
   ],
   "execution_count": 8
  },
  {
   "metadata": {
    "ExecuteTime": {
     "end_time": "2025-09-01T16:56:38.192388Z",
     "start_time": "2025-09-01T16:56:38.169541Z"
    }
   },
   "cell_type": "code",
   "source": [
    "max_timedelta = datetime.timedelta(minutes=3)\n",
    "date_diffs.iloc[0] <= max_timedelta"
   ],
   "id": "f38d764c58b95bbb",
   "outputs": [
    {
     "data": {
      "text/plain": [
       "diff    True\n",
       "Name: 0, dtype: bool"
      ]
     },
     "execution_count": 9,
     "metadata": {},
     "output_type": "execute_result"
    }
   ],
   "execution_count": 9
  },
  {
   "metadata": {
    "ExecuteTime": {
     "end_time": "2025-09-01T16:56:38.565919Z",
     "start_time": "2025-09-01T16:56:38.524351Z"
    }
   },
   "cell_type": "code",
   "source": [
    "date_diffs_matching_conditions = date_diffs.loc[date_diffs['diff'] <= max_timedelta]\n",
    "date_diffs_matching_conditions"
   ],
   "id": "184281d4f14d1d8e",
   "outputs": [
    {
     "data": {
      "text/plain": [
       "                          diff\n",
       "0       0 days 00:02:31.710000\n",
       "3       0 days 00:01:52.926000\n",
       "10      0 days 00:01:59.537000\n",
       "18      0 days 00:00:16.053000\n",
       "24      0 days 00:00:21.787000\n",
       "...                        ...\n",
       "1346852 0 days 00:00:03.960000\n",
       "1346853 0 days 00:01:51.143000\n",
       "1346854 0 days 00:00:45.067000\n",
       "1346855 0 days 00:01:53.284000\n",
       "1346856 0 days 00:00:50.865000\n",
       "\n",
       "[540200 rows x 1 columns]"
      ],
      "text/html": [
       "<div>\n",
       "<style scoped>\n",
       "    .dataframe tbody tr th:only-of-type {\n",
       "        vertical-align: middle;\n",
       "    }\n",
       "\n",
       "    .dataframe tbody tr th {\n",
       "        vertical-align: top;\n",
       "    }\n",
       "\n",
       "    .dataframe thead th {\n",
       "        text-align: right;\n",
       "    }\n",
       "</style>\n",
       "<table border=\"1\" class=\"dataframe\">\n",
       "  <thead>\n",
       "    <tr style=\"text-align: right;\">\n",
       "      <th></th>\n",
       "      <th>diff</th>\n",
       "    </tr>\n",
       "  </thead>\n",
       "  <tbody>\n",
       "    <tr>\n",
       "      <th>0</th>\n",
       "      <td>0 days 00:02:31.710000</td>\n",
       "    </tr>\n",
       "    <tr>\n",
       "      <th>3</th>\n",
       "      <td>0 days 00:01:52.926000</td>\n",
       "    </tr>\n",
       "    <tr>\n",
       "      <th>10</th>\n",
       "      <td>0 days 00:01:59.537000</td>\n",
       "    </tr>\n",
       "    <tr>\n",
       "      <th>18</th>\n",
       "      <td>0 days 00:00:16.053000</td>\n",
       "    </tr>\n",
       "    <tr>\n",
       "      <th>24</th>\n",
       "      <td>0 days 00:00:21.787000</td>\n",
       "    </tr>\n",
       "    <tr>\n",
       "      <th>...</th>\n",
       "      <td>...</td>\n",
       "    </tr>\n",
       "    <tr>\n",
       "      <th>1346852</th>\n",
       "      <td>0 days 00:00:03.960000</td>\n",
       "    </tr>\n",
       "    <tr>\n",
       "      <th>1346853</th>\n",
       "      <td>0 days 00:01:51.143000</td>\n",
       "    </tr>\n",
       "    <tr>\n",
       "      <th>1346854</th>\n",
       "      <td>0 days 00:00:45.067000</td>\n",
       "    </tr>\n",
       "    <tr>\n",
       "      <th>1346855</th>\n",
       "      <td>0 days 00:01:53.284000</td>\n",
       "    </tr>\n",
       "    <tr>\n",
       "      <th>1346856</th>\n",
       "      <td>0 days 00:00:50.865000</td>\n",
       "    </tr>\n",
       "  </tbody>\n",
       "</table>\n",
       "<p>540200 rows × 1 columns</p>\n",
       "</div>"
      ]
     },
     "execution_count": 10,
     "metadata": {},
     "output_type": "execute_result"
    }
   ],
   "execution_count": 10
  },
  {
   "metadata": {
    "ExecuteTime": {
     "end_time": "2025-09-01T16:56:39.126845Z",
     "start_time": "2025-09-01T16:56:39.117215Z"
    }
   },
   "cell_type": "code",
   "source": [
    "def get_duration_category(timedelta) -> str:\n",
    "    if pd.isnull(timedelta):\n",
    "        return 'n'\n",
    "    if timedelta < datetime.timedelta(minutes=1):\n",
    "        return 'a'\n",
    "    elif timedelta < datetime.timedelta(minutes=2):\n",
    "        return 'b'\n",
    "    elif timedelta < datetime.timedelta(minutes=3):\n",
    "        return 'c'\n",
    "    elif timedelta < datetime.timedelta(minutes=4):\n",
    "        return 'd'\n",
    "    elif timedelta < datetime.timedelta(minutes=5):\n",
    "        return 'e'\n",
    "    return 'f'\n",
    "\n",
    "#print(type(date_diffs.iloc[0].item()))\n",
    "get_duration_category(date_diffs.iloc[0].item())"
   ],
   "id": "d8bc2452753fd54c",
   "outputs": [
    {
     "data": {
      "text/plain": [
       "'c'"
      ]
     },
     "execution_count": 11,
     "metadata": {},
     "output_type": "execute_result"
    }
   ],
   "execution_count": 11
  },
  {
   "metadata": {
    "ExecuteTime": {
     "end_time": "2025-09-01T16:56:54.184981Z",
     "start_time": "2025-09-01T16:56:39.319404Z"
    }
   },
   "cell_type": "code",
   "source": [
    "df['date_diff_cat'] = df.apply(lambda row: get_duration_category(row['date_diff']), axis = 1)\n",
    "df.tail()"
   ],
   "id": "883f5bc44fea85dd",
   "outputs": [
    {
     "data": {
      "text/plain": [
       "              case_oid             lasthandled      firstseentimestamp  \\\n",
       "1346855  1719575850377 2024-06-28 13:59:36.554 2024-06-28 13:57:43.270   \n",
       "1346856  1719576752821 2024-06-28 14:13:27.728 2024-06-28 14:12:36.863   \n",
       "1346857  1719575850377 2024-06-28 14:05:18.834 2024-06-28 13:57:52.478   \n",
       "1346858  1719575850377 2024-06-28 14:01:00.589 2024-06-28 13:57:52.536   \n",
       "1346859  1719575850377 2024-06-28 14:05:11.110 2024-06-28 13:57:53.368   \n",
       "\n",
       "                 status              date_diff date_diff_cat  \n",
       "1346855  URI_DOWNLOADED 0 days 00:01:53.284000             b  \n",
       "1346856  URI_DOWNLOADED 0 days 00:00:50.865000             a  \n",
       "1346857  URI_DOWNLOADED 0 days 00:07:26.356000             f  \n",
       "1346858  URI_DOWNLOADED 0 days 00:03:08.053000             d  \n",
       "1346859  URI_DOWNLOADED 0 days 00:07:17.742000             f  "
      ],
      "text/html": [
       "<div>\n",
       "<style scoped>\n",
       "    .dataframe tbody tr th:only-of-type {\n",
       "        vertical-align: middle;\n",
       "    }\n",
       "\n",
       "    .dataframe tbody tr th {\n",
       "        vertical-align: top;\n",
       "    }\n",
       "\n",
       "    .dataframe thead th {\n",
       "        text-align: right;\n",
       "    }\n",
       "</style>\n",
       "<table border=\"1\" class=\"dataframe\">\n",
       "  <thead>\n",
       "    <tr style=\"text-align: right;\">\n",
       "      <th></th>\n",
       "      <th>case_oid</th>\n",
       "      <th>lasthandled</th>\n",
       "      <th>firstseentimestamp</th>\n",
       "      <th>status</th>\n",
       "      <th>date_diff</th>\n",
       "      <th>date_diff_cat</th>\n",
       "    </tr>\n",
       "  </thead>\n",
       "  <tbody>\n",
       "    <tr>\n",
       "      <th>1346855</th>\n",
       "      <td>1719575850377</td>\n",
       "      <td>2024-06-28 13:59:36.554</td>\n",
       "      <td>2024-06-28 13:57:43.270</td>\n",
       "      <td>URI_DOWNLOADED</td>\n",
       "      <td>0 days 00:01:53.284000</td>\n",
       "      <td>b</td>\n",
       "    </tr>\n",
       "    <tr>\n",
       "      <th>1346856</th>\n",
       "      <td>1719576752821</td>\n",
       "      <td>2024-06-28 14:13:27.728</td>\n",
       "      <td>2024-06-28 14:12:36.863</td>\n",
       "      <td>URI_DOWNLOADED</td>\n",
       "      <td>0 days 00:00:50.865000</td>\n",
       "      <td>a</td>\n",
       "    </tr>\n",
       "    <tr>\n",
       "      <th>1346857</th>\n",
       "      <td>1719575850377</td>\n",
       "      <td>2024-06-28 14:05:18.834</td>\n",
       "      <td>2024-06-28 13:57:52.478</td>\n",
       "      <td>URI_DOWNLOADED</td>\n",
       "      <td>0 days 00:07:26.356000</td>\n",
       "      <td>f</td>\n",
       "    </tr>\n",
       "    <tr>\n",
       "      <th>1346858</th>\n",
       "      <td>1719575850377</td>\n",
       "      <td>2024-06-28 14:01:00.589</td>\n",
       "      <td>2024-06-28 13:57:52.536</td>\n",
       "      <td>URI_DOWNLOADED</td>\n",
       "      <td>0 days 00:03:08.053000</td>\n",
       "      <td>d</td>\n",
       "    </tr>\n",
       "    <tr>\n",
       "      <th>1346859</th>\n",
       "      <td>1719575850377</td>\n",
       "      <td>2024-06-28 14:05:11.110</td>\n",
       "      <td>2024-06-28 13:57:53.368</td>\n",
       "      <td>URI_DOWNLOADED</td>\n",
       "      <td>0 days 00:07:17.742000</td>\n",
       "      <td>f</td>\n",
       "    </tr>\n",
       "  </tbody>\n",
       "</table>\n",
       "</div>"
      ]
     },
     "execution_count": 12,
     "metadata": {},
     "output_type": "execute_result"
    }
   ],
   "execution_count": 12
  },
  {
   "metadata": {
    "ExecuteTime": {
     "end_time": "2025-09-01T16:56:54.483372Z",
     "start_time": "2025-09-01T16:56:54.396986Z"
    }
   },
   "cell_type": "code",
   "source": [
    "date_diffs_cats = df.date_diff_cat\n",
    "date_diffs_cats.value_counts()"
   ],
   "id": "598af3561e1c1df9",
   "outputs": [
    {
     "data": {
      "text/plain": [
       "date_diff_cat\n",
       "f    447815\n",
       "a    299544\n",
       "n    249513\n",
       "b    149894\n",
       "c     90762\n",
       "d     66074\n",
       "e     43258\n",
       "Name: count, dtype: int64"
      ]
     },
     "execution_count": 13,
     "metadata": {},
     "output_type": "execute_result"
    }
   ],
   "execution_count": 13
  },
  {
   "metadata": {
    "ExecuteTime": {
     "end_time": "2025-09-01T16:56:55.782404Z",
     "start_time": "2025-09-01T16:56:54.607919Z"
    }
   },
   "cell_type": "code",
   "source": "plt.hist(date_diffs_cats)",
   "id": "9e964ee2cfc3ec6",
   "outputs": [
    {
     "data": {
      "text/plain": [
       "(array([ 90762., 249513.,      0.,  43258.,      0., 149894., 447815.,\n",
       "             0., 299544.,  66074.]),\n",
       " array([0. , 0.6, 1.2, 1.8, 2.4, 3. , 3.6, 4.2, 4.8, 5.4, 6. ]),\n",
       " <BarContainer object of 10 artists>)"
      ]
     },
     "execution_count": 14,
     "metadata": {},
     "output_type": "execute_result"
    },
    {
     "data": {
      "text/plain": [
       "<Figure size 640x480 with 1 Axes>"
      ],
      "image/png": "[encoded data removed]"
     },
     "metadata": {},
     "output_type": "display_data"
    }
   ],
   "execution_count": 14
  },
  {
   "metadata": {
    "ExecuteTime": {
     "end_time": "2025-09-01T16:56:55.854857Z",
     "start_time": "2025-09-01T16:56:55.851134Z"
    }
   },
   "cell_type": "code",
   "source": [
    "def get_year_month(dt) -> str:\n",
    "    return dt.strftime('%Y-%m')\n",
    "\n",
    "get_year_month(datetime.date.today())"
   ],
   "id": "a32da8d578915c16",
   "outputs": [
    {
     "data": {
      "text/plain": [
       "'2025-09'"
      ]
     },
     "execution_count": 15,
     "metadata": {},
     "output_type": "execute_result"
    }
   ],
   "execution_count": 15
  },
  {
   "metadata": {
    "ExecuteTime": {
     "end_time": "2025-09-01T16:57:07.821518Z",
     "start_time": "2025-09-01T16:56:55.885869Z"
    }
   },
   "cell_type": "code",
   "source": [
    "df['date_ym'] = df.apply(lambda row: get_year_month(row['firstseentimestamp']), axis = 1)\n",
    "df"
   ],
   "id": "b567d4d4dbc80081",
   "outputs": [
    {
     "data": {
      "text/plain": [
       "              case_oid             lasthandled      firstseentimestamp  \\\n",
       "0        1719575850377 2024-06-28 14:00:16.587 2024-06-28 13:57:44.877   \n",
       "1        1719579946152                     NaT 2024-06-28 15:05:58.938   \n",
       "2        1719575850377 2024-06-28 14:02:06.125 2024-06-28 13:57:57.363   \n",
       "3        1719579945831 2024-06-28 15:07:56.192 2024-06-28 15:06:03.266   \n",
       "4        1719575850377 2024-06-28 14:03:37.800 2024-06-28 13:57:59.900   \n",
       "...                ...                     ...                     ...   \n",
       "1346855  1719575850377 2024-06-28 13:59:36.554 2024-06-28 13:57:43.270   \n",
       "1346856  1719576752821 2024-06-28 14:13:27.728 2024-06-28 14:12:36.863   \n",
       "1346857  1719575850377 2024-06-28 14:05:18.834 2024-06-28 13:57:52.478   \n",
       "1346858  1719575850377 2024-06-28 14:01:00.589 2024-06-28 13:57:52.536   \n",
       "1346859  1719575850377 2024-06-28 14:05:11.110 2024-06-28 13:57:53.368   \n",
       "\n",
       "                  status              date_diff date_diff_cat  date_ym  \n",
       "0         URI_DOWNLOADED 0 days 00:02:31.710000             c  2024-06  \n",
       "1        URI_ENCOUNTERED                    NaT             n  2024-06  \n",
       "2         URI_DOWNLOADED 0 days 00:04:08.762000             e  2024-06  \n",
       "3         URI_DOWNLOADED 0 days 00:01:52.926000             b  2024-06  \n",
       "4         URI_DOWNLOADED 0 days 00:05:37.900000             f  2024-06  \n",
       "...                  ...                    ...           ...      ...  \n",
       "1346855   URI_DOWNLOADED 0 days 00:01:53.284000             b  2024-06  \n",
       "1346856   URI_DOWNLOADED 0 days 00:00:50.865000             a  2024-06  \n",
       "1346857   URI_DOWNLOADED 0 days 00:07:26.356000             f  2024-06  \n",
       "1346858   URI_DOWNLOADED 0 days 00:03:08.053000             d  2024-06  \n",
       "1346859   URI_DOWNLOADED 0 days 00:07:17.742000             f  2024-06  \n",
       "\n",
       "[1346860 rows x 7 columns]"
      ],
      "text/html": [
       "<div>\n",
       "<style scoped>\n",
       "    .dataframe tbody tr th:only-of-type {\n",
       "        vertical-align: middle;\n",
       "    }\n",
       "\n",
       "    .dataframe tbody tr th {\n",
       "        vertical-align: top;\n",
       "    }\n",
       "\n",
       "    .dataframe thead th {\n",
       "        text-align: right;\n",
       "    }\n",
       "</style>\n",
       "<table border=\"1\" class=\"dataframe\">\n",
       "  <thead>\n",
       "    <tr style=\"text-align: right;\">\n",
       "      <th></th>\n",
       "      <th>case_oid</th>\n",
       "      <th>lasthandled</th>\n",
       "      <th>firstseentimestamp</th>\n",
       "      <th>status</th>\n",
       "      <th>date_diff</th>\n",
       "      <th>date_diff_cat</th>\n",
       "      <th>date_ym</th>\n",
       "    </tr>\n",
       "  </thead>\n",
       "  <tbody>\n",
       "    <tr>\n",
       "      <th>0</th>\n",
       "      <td>1719575850377</td>\n",
       "      <td>2024-06-28 14:00:16.587</td>\n",
       "      <td>2024-06-28 13:57:44.877</td>\n",
       "      <td>URI_DOWNLOADED</td>\n",
       "      <td>0 days 00:02:31.710000</td>\n",
       "      <td>c</td>\n",
       "      <td>2024-06</td>\n",
       "    </tr>\n",
       "    <tr>\n",
       "      <th>1</th>\n",
       "      <td>1719579946152</td>\n",
       "      <td>NaT</td>\n",
       "      <td>2024-06-28 15:05:58.938</td>\n",
       "      <td>URI_ENCOUNTERED</td>\n",
       "      <td>NaT</td>\n",
       "      <td>n</td>\n",
       "      <td>2024-06</td>\n",
       "    </tr>\n",
       "    <tr>\n",
       "      <th>2</th>\n",
       "      <td>1719575850377</td>\n",
       "      <td>2024-06-28 14:02:06.125</td>\n",
       "      <td>2024-06-28 13:57:57.363</td>\n",
       "      <td>URI_DOWNLOADED</td>\n",
       "      <td>0 days 00:04:08.762000</td>\n",
       "      <td>e</td>\n",
       "      <td>2024-06</td>\n",
       "    </tr>\n",
       "    <tr>\n",
       "      <th>3</th>\n",
       "      <td>1719579945831</td>\n",
       "      <td>2024-06-28 15:07:56.192</td>\n",
       "      <td>2024-06-28 15:06:03.266</td>\n",
       "      <td>URI_DOWNLOADED</td>\n",
       "      <td>0 days 00:01:52.926000</td>\n",
       "      <td>b</td>\n",
       "      <td>2024-06</td>\n",
       "    </tr>\n",
       "    <tr>\n",
       "      <th>4</th>\n",
       "      <td>1719575850377</td>\n",
       "      <td>2024-06-28 14:03:37.800</td>\n",
       "      <td>2024-06-28 13:57:59.900</td>\n",
       "      <td>URI_DOWNLOADED</td>\n",
       "      <td>0 days 00:05:37.900000</td>\n",
       "      <td>f</td>\n",
       "      <td>2024-06</td>\n",
       "    </tr>\n",
       "    <tr>\n",
       "      <th>...</th>\n",
       "      <td>...</td>\n",
       "      <td>...</td>\n",
       "      <td>...</td>\n",
       "      <td>...</td>\n",
       "      <td>...</td>\n",
       "      <td>...</td>\n",
       "      <td>...</td>\n",
       "    </tr>\n",
       "    <tr>\n",
       "      <th>1346855</th>\n",
       "      <td>1719575850377</td>\n",
       "      <td>2024-06-28 13:59:36.554</td>\n",
       "      <td>2024-06-28 13:57:43.270</td>\n",
       "      <td>URI_DOWNLOADED</td>\n",
       "      <td>0 days 00:01:53.284000</td>\n",
       "      <td>b</td>\n",
       "      <td>2024-06</td>\n",
       "    </tr>\n",
       "    <tr>\n",
       "      <th>1346856</th>\n",
       "      <td>1719576752821</td>\n",
       "      <td>2024-06-28 14:13:27.728</td>\n",
       "      <td>2024-06-28 14:12:36.863</td>\n",
       "      <td>URI_DOWNLOADED</td>\n",
       "      <td>0 days 00:00:50.865000</td>\n",
       "      <td>a</td>\n",
       "      <td>2024-06</td>\n",
       "    </tr>\n",
       "    <tr>\n",
       "      <th>1346857</th>\n",
       "      <td>1719575850377</td>\n",
       "      <td>2024-06-28 14:05:18.834</td>\n",
       "      <td>2024-06-28 13:57:52.478</td>\n",
       "      <td>URI_DOWNLOADED</td>\n",
       "      <td>0 days 00:07:26.356000</td>\n",
       "      <td>f</td>\n",
       "      <td>2024-06</td>\n",
       "    </tr>\n",
       "    <tr>\n",
       "      <th>1346858</th>\n",
       "      <td>1719575850377</td>\n",
       "      <td>2024-06-28 14:01:00.589</td>\n",
       "      <td>2024-06-28 13:57:52.536</td>\n",
       "      <td>URI_DOWNLOADED</td>\n",
       "      <td>0 days 00:03:08.053000</td>\n",
       "      <td>d</td>\n",
       "      <td>2024-06</td>\n",
       "    </tr>\n",
       "    <tr>\n",
       "      <th>1346859</th>\n",
       "      <td>1719575850377</td>\n",
       "      <td>2024-06-28 14:05:11.110</td>\n",
       "      <td>2024-06-28 13:57:53.368</td>\n",
       "      <td>URI_DOWNLOADED</td>\n",
       "      <td>0 days 00:07:17.742000</td>\n",
       "      <td>f</td>\n",
       "      <td>2024-06</td>\n",
       "    </tr>\n",
       "  </tbody>\n",
       "</table>\n",
       "<p>1346860 rows × 7 columns</p>\n",
       "</div>"
      ]
     },
     "execution_count": 16,
     "metadata": {},
     "output_type": "execute_result"
    }
   ],
   "execution_count": 16
  },
  {
   "metadata": {
    "ExecuteTime": {
     "end_time": "2025-09-01T16:57:08.012495Z",
     "start_time": "2025-09-01T16:57:07.908823Z"
    }
   },
   "cell_type": "code",
   "source": [
    "date_yms = df.date_ym\n",
    "date_yms.value_counts()"
   ],
   "id": "dfd5fb494c6ce23b",
   "outputs": [
    {
     "data": {
      "text/plain": [
       "date_ym\n",
       "2025-03    276330\n",
       "2024-12    226237\n",
       "2025-04    195294\n",
       "2024-07    144133\n",
       "2024-11    102360\n",
       "2025-01     98788\n",
       "2024-08     97158\n",
       "2024-09     72546\n",
       "2025-02     60958\n",
       "2024-10     41430\n",
       "2024-06     31626\n",
       "Name: count, dtype: int64"
      ]
     },
     "execution_count": 17,
     "metadata": {},
     "output_type": "execute_result"
    }
   ],
   "execution_count": 17
  },
  {
   "metadata": {
    "ExecuteTime": {
     "end_time": "2025-09-01T16:57:08.316562Z",
     "start_time": "2025-09-01T16:57:08.123554Z"
    }
   },
   "cell_type": "code",
   "source": [
    "df_pivot = df.pivot_table(index='date_ym',columns='date_diff_cat',values='case_oid',aggfunc='count')\n",
    "df_pivot"
   ],
   "id": "8b31d17e5bf72a98",
   "outputs": [
    {
     "data": {
      "text/plain": [
       "date_diff_cat      a      b      c      d      e       f      n\n",
       "date_ym                                                        \n",
       "2024-06        10659   6026   4275   1723    442     675   7826\n",
       "2024-07        45890  24543   9511   5656   3715   23079  31739\n",
       "2024-08        29798  12087   5907   4016   3408   19176  22766\n",
       "2024-09        26067   9360   4061   2614   2163    9415  18866\n",
       "2024-10        19277   5559   1691   1109    619    3219   9956\n",
       "2024-11        21939   7507   3971   1537   1184   44461  21761\n",
       "2024-12        26231  17512  14877  13569   5533  102144  46371\n",
       "2025-01        30535  17290  10921   9902   6198   11575  12367\n",
       "2025-02        18198  10298   7641   4041   2353    9941   8486\n",
       "2025-03        47307  25201  16613  12019  10074  136179  28937\n",
       "2025-04        23643  14511  11294   9888   7569   87951  40438"
      ],
      "text/html": [
       "<div>\n",
       "<style scoped>\n",
       "    .dataframe tbody tr th:only-of-type {\n",
       "        vertical-align: middle;\n",
       "    }\n",
       "\n",
       "    .dataframe tbody tr th {\n",
       "        vertical-align: top;\n",
       "    }\n",
       "\n",
       "    .dataframe thead th {\n",
       "        text-align: right;\n",
       "    }\n",
       "</style>\n",
       "<table border=\"1\" class=\"dataframe\">\n",
       "  <thead>\n",
       "    <tr style=\"text-align: right;\">\n",
       "      <th>date_diff_cat</th>\n",
       "      <th>a</th>\n",
       "      <th>b</th>\n",
       "      <th>c</th>\n",
       "      <th>d</th>\n",
       "      <th>e</th>\n",
       "      <th>f</th>\n",
       "      <th>n</th>\n",
       "    </tr>\n",
       "    <tr>\n",
       "      <th>date_ym</th>\n",
       "      <th></th>\n",
       "      <th></th>\n",
       "      <th></th>\n",
       "      <th></th>\n",
       "      <th></th>\n",
       "      <th></th>\n",
       "      <th></th>\n",
       "    </tr>\n",
       "  </thead>\n",
       "  <tbody>\n",
       "    <tr>\n",
       "      <th>2024-06</th>\n",
       "      <td>10659</td>\n",
       "      <td>6026</td>\n",
       "      <td>4275</td>\n",
       "      <td>1723</td>\n",
       "      <td>442</td>\n",
       "      <td>675</td>\n",
       "      <td>7826</td>\n",
       "    </tr>\n",
       "    <tr>\n",
       "      <th>2024-07</th>\n",
       "      <td>45890</td>\n",
       "      <td>24543</td>\n",
       "      <td>9511</td>\n",
       "      <td>5656</td>\n",
       "      <td>3715</td>\n",
       "      <td>23079</td>\n",
       "      <td>31739</td>\n",
       "    </tr>\n",
       "    <tr>\n",
       "      <th>2024-08</th>\n",
       "      <td>29798</td>\n",
       "      <td>12087</td>\n",
       "      <td>5907</td>\n",
       "      <td>4016</td>\n",
       "      <td>3408</td>\n",
       "      <td>19176</td>\n",
       "      <td>22766</td>\n",
       "    </tr>\n",
       "    <tr>\n",
       "      <th>2024-09</th>\n",
       "      <td>26067</td>\n",
       "      <td>9360</td>\n",
       "      <td>4061</td>\n",
       "      <td>2614</td>\n",
       "      <td>2163</td>\n",
       "      <td>9415</td>\n",
       "      <td>18866</td>\n",
       "    </tr>\n",
       "    <tr>\n",
       "      <th>2024-10</th>\n",
       "      <td>19277</td>\n",
       "      <td>5559</td>\n",
       "      <td>1691</td>\n",
       "      <td>1109</td>\n",
       "      <td>619</td>\n",
       "      <td>3219</td>\n",
       "      <td>9956</td>\n",
       "    </tr>\n",
       "    <tr>\n",
       "      <th>2024-11</th>\n",
       "      <td>21939</td>\n",
       "      <td>7507</td>\n",
       "      <td>3971</td>\n",
       "      <td>1537</td>\n",
       "      <td>1184</td>\n",
       "      <td>44461</td>\n",
       "      <td>21761</td>\n",
       "    </tr>\n",
       "    <tr>\n",
       "      <th>2024-12</th>\n",
       "      <td>26231</td>\n",
       "      <td>17512</td>\n",
       "      <td>14877</td>\n",
       "      <td>13569</td>\n",
       "      <td>5533</td>\n",
       "      <td>102144</td>\n",
       "      <td>46371</td>\n",
       "    </tr>\n",
       "    <tr>\n",
       "      <th>2025-01</th>\n",
       "      <td>30535</td>\n",
       "      <td>17290</td>\n",
       "      <td>10921</td>\n",
       "      <td>9902</td>\n",
       "      <td>6198</td>\n",
       "      <td>11575</td>\n",
       "      <td>12367</td>\n",
       "    </tr>\n",
       "    <tr>\n",
       "      <th>2025-02</th>\n",
       "      <td>18198</td>\n",
       "      <td>10298</td>\n",
       "      <td>7641</td>\n",
       "      <td>4041</td>\n",
       "      <td>2353</td>\n",
       "      <td>9941</td>\n",
       "      <td>8486</td>\n",
       "    </tr>\n",
       "    <tr>\n",
       "      <th>2025-03</th>\n",
       "      <td>47307</td>\n",
       "      <td>25201</td>\n",
       "      <td>16613</td>\n",
       "      <td>12019</td>\n",
       "      <td>10074</td>\n",
       "      <td>136179</td>\n",
       "      <td>28937</td>\n",
       "    </tr>\n",
       "    <tr>\n",
       "      <th>2025-04</th>\n",
       "      <td>23643</td>\n",
       "      <td>14511</td>\n",
       "      <td>11294</td>\n",
       "      <td>9888</td>\n",
       "      <td>7569</td>\n",
       "      <td>87951</td>\n",
       "      <td>40438</td>\n",
       "    </tr>\n",
       "  </tbody>\n",
       "</table>\n",
       "</div>"
      ]
     },
     "execution_count": 18,
     "metadata": {},
     "output_type": "execute_result"
    }
   ],
   "execution_count": 18
  },
  {
   "metadata": {
    "ExecuteTime": {
     "end_time": "2025-09-01T16:57:08.371844Z",
     "start_time": "2025-09-01T16:57:08.368405Z"
    }
   },
   "cell_type": "code",
   "source": [
    "# analysis: next steps\n",
    "# Why no 2025-04?\n",
    "# Are you sure that get_year_month is correct?\n",
    "# Are you sure that get_duration_category is correct?\n",
    "# Too many 'f' in 2024-12 and 2025-03"
   ],
   "id": "fbc44b07e5781822",
   "outputs": [],
   "execution_count": 19
  },
  {
   "metadata": {
    "ExecuteTime": {
     "end_time": "2025-09-01T16:57:08.533955Z",
     "start_time": "2025-09-01T16:57:08.441791Z"
    }
   },
   "cell_type": "code",
   "source": "plt.plot(df_pivot)",
   "id": "adff6ee590d5409",
   "outputs": [
    {
     "data": {
      "text/plain": [
       "[<matplotlib.lines.Line2D at 0x131e10410>,\n",
       " <matplotlib.lines.Line2D at 0x131e102d0>,\n",
       " <matplotlib.lines.Line2D at 0x131e12e90>,\n",
       " <matplotlib.lines.Line2D at 0x131e12fd0>,\n",
       " <matplotlib.lines.Line2D at 0x131e13110>,\n",
       " <matplotlib.lines.Line2D at 0x131e13250>,\n",
       " <matplotlib.lines.Line2D at 0x131e13390>]"
      ]
     },
     "execution_count": 20,
     "metadata": {},
     "output_type": "execute_result"
    },
    {
     "data": {
      "text/plain": [
       "<Figure size 640x480 with 1 Axes>"
      ],
      "image/png": "[encoded data removed]"
     },
     "metadata": {},
     "output_type": "display_data"
    }
   ],
   "execution_count": 20
  }
 ],
 "metadata": {
  "kernelspec": {
   "display_name": "Python 3 (ipykernel)",
   "language": "python",
   "name": "python3"
  },
  "language_info": {
   "codemirror_mode": {
    "name": "ipython",
    "version": 2
   },
   "file_extension": ".py",
   "mimetype": "text/x-python",
   "name": "python",
   "nbconvert_exporter": "python",
   "pygments_lexer": "ipython2",
   "version": "2.7.6"
  }
 },
 "nbformat": 4,
 "nbformat_minor": 5
}
